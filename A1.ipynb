{
 "cells": [
  {
   "cell_type": "markdown",
   "id": "7970e6b4",
   "metadata": {},
   "source": [
    "## Assignment 1 CSCN8000 Artificial Intelligence Algorithms and Mathematics\n",
    "\n",
    "Parth Patel: 8629824"
   ]
  },
  {
   "cell_type": "markdown",
   "id": "48701966",
   "metadata": {},
   "source": [
    "### Imports"
   ]
  },
  {
   "cell_type": "code",
   "execution_count": 38,
   "id": "88553115",
   "metadata": {},
   "outputs": [],
   "source": [
    "import pandas as pd\n",
    "from sklearn.linear_model import LogisticRegression\n",
    "from sklearn.metrics import accuracy_score, classification_report, confusion_matrix\n",
    "from sklearn.model_selection import train_test_split\n",
    "from sklearn.preprocessing import StandardScaler\n"
   ]
  },
  {
   "cell_type": "markdown",
   "id": "42ac9dd6",
   "metadata": {},
   "source": [
    "### Read Data"
   ]
  },
  {
   "cell_type": "code",
   "execution_count": 31,
   "id": "5a61bbb4",
   "metadata": {},
   "outputs": [
    {
     "name": "stdout",
     "output_type": "stream",
     "text": [
      "First 5 rows of the dataset:\n",
      "   id  gender      PPE      DFA     RPDE  numPulses  numPeriodsPulses  \\\n",
      "0   0       1  0.85247  0.71826  0.57227        240               239   \n",
      "1   0       1  0.76686  0.69481  0.53966        234               233   \n",
      "2   0       1  0.85083  0.67604  0.58982        232               231   \n",
      "3   1       0  0.41121  0.79672  0.59257        178               177   \n",
      "4   1       0  0.32790  0.79782  0.53028        236               235   \n",
      "\n",
      "   meanPeriodPulses  stdDevPeriodPulses  locPctJitter  ...  \\\n",
      "0          0.008064            0.000087       0.00218  ...   \n",
      "1          0.008258            0.000073       0.00195  ...   \n",
      "2          0.008340            0.000060       0.00176  ...   \n",
      "3          0.010858            0.000183       0.00419  ...   \n",
      "4          0.008162            0.002669       0.00535  ...   \n",
      "\n",
      "   tqwt_kurtosisValue_dec_28  tqwt_kurtosisValue_dec_29  \\\n",
      "0                     1.5620                     2.6445   \n",
      "1                     1.5589                     3.6107   \n",
      "2                     1.5643                     2.3308   \n",
      "3                     3.7805                     3.5664   \n",
      "4                     6.1727                     5.8416   \n",
      "\n",
      "   tqwt_kurtosisValue_dec_30  tqwt_kurtosisValue_dec_31  \\\n",
      "0                     3.8686                     4.2105   \n",
      "1                    23.5155                    14.1962   \n",
      "2                     9.4959                    10.7458   \n",
      "3                     5.2558                    14.0403   \n",
      "4                     6.0805                     5.7621   \n",
      "\n",
      "   tqwt_kurtosisValue_dec_32  tqwt_kurtosisValue_dec_33  \\\n",
      "0                     5.1221                     4.4625   \n",
      "1                    11.0261                     9.5082   \n",
      "2                    11.0177                     4.8066   \n",
      "3                     4.2235                     4.6857   \n",
      "4                     7.7817                    11.6891   \n",
      "\n",
      "   tqwt_kurtosisValue_dec_34  tqwt_kurtosisValue_dec_35  \\\n",
      "0                     2.6202                     3.0004   \n",
      "1                     6.5245                     6.3431   \n",
      "2                     2.9199                     3.1495   \n",
      "3                     4.8460                     6.2650   \n",
      "4                     8.2103                     5.0559   \n",
      "\n",
      "   tqwt_kurtosisValue_dec_36  class  \n",
      "0                    18.9405      1  \n",
      "1                    45.1780      1  \n",
      "2                     4.7666      1  \n",
      "3                     4.0603      1  \n",
      "4                     6.1164      1  \n",
      "\n",
      "[5 rows x 755 columns]\n"
     ]
    }
   ],
   "source": [
    "df = pd.read_csv('pd_speech_features.csv')\n",
    "\n",
    "print(\"First 5 rows of the dataset:\")\n",
    "print(df.head())"
   ]
  },
  {
   "cell_type": "code",
   "execution_count": 32,
   "id": "1fe7dfac",
   "metadata": {},
   "outputs": [
    {
     "name": "stdout",
     "output_type": "stream",
     "text": [
      "\n",
      "Missing values in each column:\n",
      "id                           0\n",
      "gender                       0\n",
      "PPE                          0\n",
      "DFA                          0\n",
      "RPDE                         0\n",
      "                            ..\n",
      "tqwt_kurtosisValue_dec_33    0\n",
      "tqwt_kurtosisValue_dec_34    0\n",
      "tqwt_kurtosisValue_dec_35    0\n",
      "tqwt_kurtosisValue_dec_36    0\n",
      "class                        0\n",
      "Length: 755, dtype: int64\n"
     ]
    }
   ],
   "source": [
    "print(\"\\nMissing values in each column:\")\n",
    "print(df.isnull().sum())"
   ]
  },
  {
   "cell_type": "code",
   "execution_count": 33,
   "id": "3779060f",
   "metadata": {},
   "outputs": [
    {
     "name": "stdout",
     "output_type": "stream",
     "text": [
      "\n",
      "Dataset info:\n",
      "<class 'pandas.core.frame.DataFrame'>\n",
      "RangeIndex: 756 entries, 0 to 755\n",
      "Columns: 755 entries, id to class\n",
      "dtypes: float64(749), int64(6)\n",
      "memory usage: 4.4 MB\n",
      "None\n"
     ]
    }
   ],
   "source": [
    "print(\"\\nDataset info:\")\n",
    "print(df.info())\n"
   ]
  },
  {
   "cell_type": "code",
   "execution_count": 34,
   "id": "57d16ad3",
   "metadata": {},
   "outputs": [
    {
     "name": "stdout",
     "output_type": "stream",
     "text": [
      "\n",
      "Statistical summary:\n",
      "               id      gender         PPE         DFA        RPDE   numPulses  \\\n",
      "count  756.000000  756.000000  756.000000  756.000000  756.000000  756.000000   \n",
      "mean   125.500000    0.515873    0.746284    0.700414    0.489058  323.972222   \n",
      "std     72.793721    0.500079    0.169294    0.069718    0.137442   99.219059   \n",
      "min      0.000000    0.000000    0.041551    0.543500    0.154300    2.000000   \n",
      "25%     62.750000    0.000000    0.762833    0.647053    0.386537  251.000000   \n",
      "50%    125.500000    1.000000    0.809655    0.700525    0.484355  317.000000   \n",
      "75%    188.250000    1.000000    0.834315    0.754985    0.586515  384.250000   \n",
      "max    251.000000    1.000000    0.907660    0.852640    0.871230  907.000000   \n",
      "\n",
      "       numPeriodsPulses  meanPeriodPulses  stdDevPeriodPulses  locPctJitter  \\\n",
      "count        756.000000        756.000000          756.000000    756.000000   \n",
      "mean         322.678571          0.006360            0.000383      0.002324   \n",
      "std           99.402499          0.001826            0.000728      0.002628   \n",
      "min            1.000000          0.002107            0.000011      0.000210   \n",
      "25%          250.000000          0.005003            0.000049      0.000970   \n",
      "50%          316.000000          0.006048            0.000077      0.001495   \n",
      "75%          383.250000          0.007528            0.000171      0.002520   \n",
      "max          905.000000          0.012966            0.003483      0.027750   \n",
      "\n",
      "       ...  tqwt_kurtosisValue_dec_28  tqwt_kurtosisValue_dec_29  \\\n",
      "count  ...                 756.000000                 756.000000   \n",
      "mean   ...                  26.237251                  22.840337   \n",
      "std    ...                  42.220693                  32.626464   \n",
      "min    ...                   1.509800                   1.531700   \n",
      "25%    ...                   2.408675                   3.452800   \n",
      "50%    ...                   5.586300                   7.062750   \n",
      "75%    ...                  28.958075                  29.830850   \n",
      "max    ...                 239.788800                 203.311300   \n",
      "\n",
      "       tqwt_kurtosisValue_dec_30  tqwt_kurtosisValue_dec_31  \\\n",
      "count                 756.000000                 756.000000   \n",
      "mean                   18.587888                  13.872018   \n",
      "std                    25.537464                  20.046029   \n",
      "min                     1.582900                   1.747200   \n",
      "25%                     3.354825                   3.077450   \n",
      "50%                     6.077400                   4.770850   \n",
      "75%                    21.944050                  13.188000   \n",
      "max                   121.542900                 102.207000   \n",
      "\n",
      "       tqwt_kurtosisValue_dec_32  tqwt_kurtosisValue_dec_33  \\\n",
      "count                 756.000000                 756.000000   \n",
      "mean                   12.218953                  12.375335   \n",
      "std                    17.783642                  16.341665   \n",
      "min                     1.789500                   1.628700   \n",
      "25%                     2.937025                   3.114375   \n",
      "50%                     4.300450                   4.741450   \n",
      "75%                    10.876150                  12.201325   \n",
      "max                    85.571700                  73.532200   \n",
      "\n",
      "       tqwt_kurtosisValue_dec_34  tqwt_kurtosisValue_dec_35  \\\n",
      "count                 756.000000                 756.000000   \n",
      "mean                   14.799230                  14.751559   \n",
      "std                    15.722502                  14.432979   \n",
      "min                     1.861700                   1.955900   \n",
      "25%                     3.665925                   3.741275   \n",
      "50%                     6.725700                   7.334250   \n",
      "75%                    21.922050                  22.495175   \n",
      "max                    62.007300                  57.544300   \n",
      "\n",
      "       tqwt_kurtosisValue_dec_36       class  \n",
      "count                 756.000000  756.000000  \n",
      "mean                   31.481110    0.746032  \n",
      "std                    34.230991    0.435568  \n",
      "min                     2.364000    0.000000  \n",
      "25%                     3.948750    0.000000  \n",
      "50%                    10.637250    1.000000  \n",
      "75%                    61.125325    1.000000  \n",
      "max                   156.423700    1.000000  \n",
      "\n",
      "[8 rows x 755 columns]\n"
     ]
    }
   ],
   "source": [
    "print(\"\\nStatistical summary:\")\n",
    "print(df.describe())"
   ]
  },
  {
   "cell_type": "markdown",
   "id": "464d3cea",
   "metadata": {},
   "source": [
    "### Data Preprocessing"
   ]
  },
  {
   "cell_type": "code",
   "execution_count": 35,
   "id": "206fa668",
   "metadata": {},
   "outputs": [],
   "source": [
    "df.columns = df.columns.str.strip()\n",
    "\n",
    "## remove id \n",
    "\n",
    "df = df.drop('id', axis=1)\n",
    "\n",
    "# create the x and y for the model\n",
    "X = df.drop('class', axis=1)\n",
    "y = df['class']"
   ]
  },
  {
   "cell_type": "code",
   "execution_count": 36,
   "id": "346ab819",
   "metadata": {},
   "outputs": [
    {
     "data": {
      "text/html": [
       "<div>\n",
       "<style scoped>\n",
       "    .dataframe tbody tr th:only-of-type {\n",
       "        vertical-align: middle;\n",
       "    }\n",
       "\n",
       "    .dataframe tbody tr th {\n",
       "        vertical-align: top;\n",
       "    }\n",
       "\n",
       "    .dataframe thead th {\n",
       "        text-align: right;\n",
       "    }\n",
       "</style>\n",
       "<table border=\"1\" class=\"dataframe\">\n",
       "  <thead>\n",
       "    <tr style=\"text-align: right;\">\n",
       "      <th></th>\n",
       "      <th>gender</th>\n",
       "      <th>PPE</th>\n",
       "      <th>DFA</th>\n",
       "      <th>RPDE</th>\n",
       "      <th>numPulses</th>\n",
       "      <th>numPeriodsPulses</th>\n",
       "      <th>meanPeriodPulses</th>\n",
       "      <th>stdDevPeriodPulses</th>\n",
       "      <th>locPctJitter</th>\n",
       "      <th>locAbsJitter</th>\n",
       "      <th>...</th>\n",
       "      <th>tqwt_kurtosisValue_dec_28</th>\n",
       "      <th>tqwt_kurtosisValue_dec_29</th>\n",
       "      <th>tqwt_kurtosisValue_dec_30</th>\n",
       "      <th>tqwt_kurtosisValue_dec_31</th>\n",
       "      <th>tqwt_kurtosisValue_dec_32</th>\n",
       "      <th>tqwt_kurtosisValue_dec_33</th>\n",
       "      <th>tqwt_kurtosisValue_dec_34</th>\n",
       "      <th>tqwt_kurtosisValue_dec_35</th>\n",
       "      <th>tqwt_kurtosisValue_dec_36</th>\n",
       "      <th>class</th>\n",
       "    </tr>\n",
       "  </thead>\n",
       "  <tbody>\n",
       "    <tr>\n",
       "      <th>0</th>\n",
       "      <td>1</td>\n",
       "      <td>0.85247</td>\n",
       "      <td>0.71826</td>\n",
       "      <td>0.57227</td>\n",
       "      <td>240</td>\n",
       "      <td>239</td>\n",
       "      <td>0.008064</td>\n",
       "      <td>0.000087</td>\n",
       "      <td>0.00218</td>\n",
       "      <td>0.000018</td>\n",
       "      <td>...</td>\n",
       "      <td>1.5620</td>\n",
       "      <td>2.6445</td>\n",
       "      <td>3.8686</td>\n",
       "      <td>4.2105</td>\n",
       "      <td>5.1221</td>\n",
       "      <td>4.4625</td>\n",
       "      <td>2.6202</td>\n",
       "      <td>3.0004</td>\n",
       "      <td>18.9405</td>\n",
       "      <td>1</td>\n",
       "    </tr>\n",
       "    <tr>\n",
       "      <th>1</th>\n",
       "      <td>1</td>\n",
       "      <td>0.76686</td>\n",
       "      <td>0.69481</td>\n",
       "      <td>0.53966</td>\n",
       "      <td>234</td>\n",
       "      <td>233</td>\n",
       "      <td>0.008258</td>\n",
       "      <td>0.000073</td>\n",
       "      <td>0.00195</td>\n",
       "      <td>0.000016</td>\n",
       "      <td>...</td>\n",
       "      <td>1.5589</td>\n",
       "      <td>3.6107</td>\n",
       "      <td>23.5155</td>\n",
       "      <td>14.1962</td>\n",
       "      <td>11.0261</td>\n",
       "      <td>9.5082</td>\n",
       "      <td>6.5245</td>\n",
       "      <td>6.3431</td>\n",
       "      <td>45.1780</td>\n",
       "      <td>1</td>\n",
       "    </tr>\n",
       "    <tr>\n",
       "      <th>2</th>\n",
       "      <td>1</td>\n",
       "      <td>0.85083</td>\n",
       "      <td>0.67604</td>\n",
       "      <td>0.58982</td>\n",
       "      <td>232</td>\n",
       "      <td>231</td>\n",
       "      <td>0.008340</td>\n",
       "      <td>0.000060</td>\n",
       "      <td>0.00176</td>\n",
       "      <td>0.000015</td>\n",
       "      <td>...</td>\n",
       "      <td>1.5643</td>\n",
       "      <td>2.3308</td>\n",
       "      <td>9.4959</td>\n",
       "      <td>10.7458</td>\n",
       "      <td>11.0177</td>\n",
       "      <td>4.8066</td>\n",
       "      <td>2.9199</td>\n",
       "      <td>3.1495</td>\n",
       "      <td>4.7666</td>\n",
       "      <td>1</td>\n",
       "    </tr>\n",
       "    <tr>\n",
       "      <th>3</th>\n",
       "      <td>0</td>\n",
       "      <td>0.41121</td>\n",
       "      <td>0.79672</td>\n",
       "      <td>0.59257</td>\n",
       "      <td>178</td>\n",
       "      <td>177</td>\n",
       "      <td>0.010858</td>\n",
       "      <td>0.000183</td>\n",
       "      <td>0.00419</td>\n",
       "      <td>0.000046</td>\n",
       "      <td>...</td>\n",
       "      <td>3.7805</td>\n",
       "      <td>3.5664</td>\n",
       "      <td>5.2558</td>\n",
       "      <td>14.0403</td>\n",
       "      <td>4.2235</td>\n",
       "      <td>4.6857</td>\n",
       "      <td>4.8460</td>\n",
       "      <td>6.2650</td>\n",
       "      <td>4.0603</td>\n",
       "      <td>1</td>\n",
       "    </tr>\n",
       "    <tr>\n",
       "      <th>4</th>\n",
       "      <td>0</td>\n",
       "      <td>0.32790</td>\n",
       "      <td>0.79782</td>\n",
       "      <td>0.53028</td>\n",
       "      <td>236</td>\n",
       "      <td>235</td>\n",
       "      <td>0.008162</td>\n",
       "      <td>0.002669</td>\n",
       "      <td>0.00535</td>\n",
       "      <td>0.000044</td>\n",
       "      <td>...</td>\n",
       "      <td>6.1727</td>\n",
       "      <td>5.8416</td>\n",
       "      <td>6.0805</td>\n",
       "      <td>5.7621</td>\n",
       "      <td>7.7817</td>\n",
       "      <td>11.6891</td>\n",
       "      <td>8.2103</td>\n",
       "      <td>5.0559</td>\n",
       "      <td>6.1164</td>\n",
       "      <td>1</td>\n",
       "    </tr>\n",
       "  </tbody>\n",
       "</table>\n",
       "<p>5 rows × 754 columns</p>\n",
       "</div>"
      ],
      "text/plain": [
       "   gender      PPE      DFA     RPDE  numPulses  numPeriodsPulses  \\\n",
       "0       1  0.85247  0.71826  0.57227        240               239   \n",
       "1       1  0.76686  0.69481  0.53966        234               233   \n",
       "2       1  0.85083  0.67604  0.58982        232               231   \n",
       "3       0  0.41121  0.79672  0.59257        178               177   \n",
       "4       0  0.32790  0.79782  0.53028        236               235   \n",
       "\n",
       "   meanPeriodPulses  stdDevPeriodPulses  locPctJitter  locAbsJitter  ...  \\\n",
       "0          0.008064            0.000087       0.00218      0.000018  ...   \n",
       "1          0.008258            0.000073       0.00195      0.000016  ...   \n",
       "2          0.008340            0.000060       0.00176      0.000015  ...   \n",
       "3          0.010858            0.000183       0.00419      0.000046  ...   \n",
       "4          0.008162            0.002669       0.00535      0.000044  ...   \n",
       "\n",
       "   tqwt_kurtosisValue_dec_28  tqwt_kurtosisValue_dec_29  \\\n",
       "0                     1.5620                     2.6445   \n",
       "1                     1.5589                     3.6107   \n",
       "2                     1.5643                     2.3308   \n",
       "3                     3.7805                     3.5664   \n",
       "4                     6.1727                     5.8416   \n",
       "\n",
       "   tqwt_kurtosisValue_dec_30  tqwt_kurtosisValue_dec_31  \\\n",
       "0                     3.8686                     4.2105   \n",
       "1                    23.5155                    14.1962   \n",
       "2                     9.4959                    10.7458   \n",
       "3                     5.2558                    14.0403   \n",
       "4                     6.0805                     5.7621   \n",
       "\n",
       "   tqwt_kurtosisValue_dec_32  tqwt_kurtosisValue_dec_33  \\\n",
       "0                     5.1221                     4.4625   \n",
       "1                    11.0261                     9.5082   \n",
       "2                    11.0177                     4.8066   \n",
       "3                     4.2235                     4.6857   \n",
       "4                     7.7817                    11.6891   \n",
       "\n",
       "   tqwt_kurtosisValue_dec_34  tqwt_kurtosisValue_dec_35  \\\n",
       "0                     2.6202                     3.0004   \n",
       "1                     6.5245                     6.3431   \n",
       "2                     2.9199                     3.1495   \n",
       "3                     4.8460                     6.2650   \n",
       "4                     8.2103                     5.0559   \n",
       "\n",
       "   tqwt_kurtosisValue_dec_36  class  \n",
       "0                    18.9405      1  \n",
       "1                    45.1780      1  \n",
       "2                     4.7666      1  \n",
       "3                     4.0603      1  \n",
       "4                     6.1164      1  \n",
       "\n",
       "[5 rows x 754 columns]"
      ]
     },
     "execution_count": 36,
     "metadata": {},
     "output_type": "execute_result"
    }
   ],
   "source": [
    "df.head()"
   ]
  },
  {
   "cell_type": "markdown",
   "id": "512e646c",
   "metadata": {},
   "source": [
    "### Data Standardization"
   ]
  },
  {
   "cell_type": "code",
   "execution_count": 37,
   "id": "722af064",
   "metadata": {},
   "outputs": [],
   "source": [
    "## use   a.\tUse 80% of samples as training data size.\n",
    "# lets split the data  \n",
    "\n",
    "X_train, X_test, y_train, y_test = train_test_split(\n",
    "    X, y, test_size=0.2, random_state=42, stratify=y\n",
    ")\n",
    "# sclaer\n",
    "scaler = StandardScaler()\n",
    "\n",
    "# use the fit to transform the training data\n",
    "X_train_scaled = scaler.fit_transform(X_train)\n",
    "X_test_scaled = scaler.transform(X_test)"
   ]
  },
  {
   "cell_type": "markdown",
   "id": "2ac3fee1",
   "metadata": {},
   "source": [
    "### Model Training"
   ]
  },
  {
   "cell_type": "code",
   "execution_count": 40,
   "id": "361da45d",
   "metadata": {},
   "outputs": [],
   "source": [
    "\n",
    "## train model and predict on test sert\n",
    "model = LogisticRegression(max_iter=1000, random_state=42)\n",
    "model.fit(X_train_scaled, y_train)\n",
    "\n",
    "y_pred = model.predict(X_test_scaled)\n",
    "\n"
   ]
  },
  {
   "cell_type": "markdown",
   "id": "0a608698",
   "metadata": {},
   "source": [
    "### Measure Model Accuracy"
   ]
  },
  {
   "cell_type": "code",
   "execution_count": 41,
   "id": "b279d2eb",
   "metadata": {},
   "outputs": [
    {
     "name": "stdout",
     "output_type": "stream",
     "text": [
      "Accuracy = 0.8421052631578947\n",
      "\n",
      "Classification Report =\n",
      "               precision    recall  f1-score   support\n",
      "\n",
      "           0       0.73      0.62      0.67        39\n",
      "           1       0.87      0.92      0.90       113\n",
      "\n",
      "    accuracy                           0.84       152\n",
      "   macro avg       0.80      0.77      0.78       152\n",
      "weighted avg       0.84      0.84      0.84       152\n",
      "\n",
      "\n",
      "Confusion Matrix = \n",
      " [[ 24  15]\n",
      " [  9 104]]\n"
     ]
    }
   ],
   "source": [
    "print(\"Accuracy =\", accuracy_score(y_test, y_pred))\n",
    "print(\"\\nClassification Report =\\n\", classification_report(y_test, y_pred))\n",
    "print(\"\\nConfusion Matrix = \\n\", confusion_matrix(y_test, y_pred))"
   ]
  },
  {
   "cell_type": "markdown",
   "id": "2ad8312c",
   "metadata": {},
   "source": [
    "An 84% accuracy is sufficient for our needs so we can move on to the last step."
   ]
  },
  {
   "cell_type": "markdown",
   "id": "60a07702",
   "metadata": {},
   "source": [
    "### One Instance Prediction"
   ]
  },
  {
   "cell_type": "code",
   "execution_count": 44,
   "id": "2e2d12f1",
   "metadata": {},
   "outputs": [
    {
     "name": "stdout",
     "output_type": "stream",
     "text": [
      "Predicted diagnosis 1\n",
      "\n",
      "1 means has parkinsons, 2 means does not have parkinsons\n"
     ]
    }
   ],
   "source": [
    "# take the very first instance I have check the data and we know that it must yield that it has parkinsons\n",
    "sample = X_test_scaled[0].reshape(1, -1)\n",
    "\n",
    "# predict and compare\n",
    "prediction = model.predict(sample)\n",
    "print(\"Predicted diagnosis\", prediction[0])  # 1 = Parkinson’s, 0 = Healthy\n",
    "print(\"\\n1 means has parkinsons, 2 means does not have parkinsons\")\n"
   ]
  }
 ],
 "metadata": {
  "kernelspec": {
   "display_name": ".venv",
   "language": "python",
   "name": "python3"
  },
  "language_info": {
   "codemirror_mode": {
    "name": "ipython",
    "version": 3
   },
   "file_extension": ".py",
   "mimetype": "text/x-python",
   "name": "python",
   "nbconvert_exporter": "python",
   "pygments_lexer": "ipython3",
   "version": "3.12.2"
  }
 },
 "nbformat": 4,
 "nbformat_minor": 5
}
